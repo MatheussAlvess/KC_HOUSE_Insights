{
 "cells": [
  {
   "cell_type": "code",
   "execution_count": 210,
   "id": "f60ecd09",
   "metadata": {
    "ExecuteTime": {
     "end_time": "2022-07-18T22:10:02.392913Z",
     "start_time": "2022-07-18T22:10:02.368930Z"
    }
   },
   "outputs": [],
   "source": [
    "# 0.0 Imports\n",
    "\n",
    "import os\n",
    "import pandas  as pd\n",
    "import numpy   as np\n",
    "import seaborn as sns\n",
    "import datetime\n",
    "\n",
    "from matplotlib import pyplot as plt\n",
    "from IPython.display import Image\n",
    "\n",
    "pd.set_option('display.float_format', lambda x: '%.2f' % x)\n",
    "plt.rcParams['figure.figsize'] = [15, 10]\n",
    "sns.set()"
   ]
  },
  {
   "cell_type": "markdown",
   "id": "3d4188ba",
   "metadata": {
    "ExecuteTime": {
     "end_time": "2022-07-18T19:04:32.499955Z",
     "start_time": "2022-07-18T19:04:32.486989Z"
    }
   },
   "source": [
    "# 1 - Business Questions \n",
    "\n",
    "O CEO da KC House fez uma reunião e na mesma foram discutidas métricas da empresa. Das requisições do CEO estão:\n",
    "1 - Qual imóvel deve ser comprado e por qual valor?\n",
    "2 - Uma vez comprado, qual o melhor momento para vender?\n",
    "\n",
    "### 1.2 Understanding Business Questions\n",
    "A KC é uma empresa de venda de imóveis onde seu lucro está na arbitragem da compra, ou seja, em comprar imóveis por um valor x e vendê-lo posteriormente por um valor maior. No entanto o CEO se encontra no questionamento de, dado um portfólio de imóveis, desdes qual devem ser comprados e uma vez comprado quando deve ser realizada a venda a fim de garantir o lucro. \n",
    "\n",
    "\n",
    "### 1.3 Assumptions\n",
    "\n",
    "Boa compra é comprar abaixo da mediana\n",
    "Boa venda é vender em período ruim lucrando 10% e em período bom lucrando 30%\n",
    "    Período ruim é x e bom é y\n",
    "As hipoteses são a respeito do que é um boa compra e uma má compra"
   ]
  },
  {
   "cell_type": "code",
   "execution_count": null,
   "id": "21423e12",
   "metadata": {},
   "outputs": [],
   "source": []
  },
  {
   "cell_type": "markdown",
   "id": "18304486",
   "metadata": {},
   "source": [
    "# 2 - Data Collect\n",
    "\n",
    "\n"
   ]
  },
  {
   "cell_type": "code",
   "execution_count": 173,
   "id": "60769e1d",
   "metadata": {
    "ExecuteTime": {
     "end_time": "2022-07-18T21:38:18.302328Z",
     "start_time": "2022-07-18T21:38:18.203554Z"
    }
   },
   "outputs": [
    {
     "data": {
      "text/html": [
       "<div>\n",
       "<style scoped>\n",
       "    .dataframe tbody tr th:only-of-type {\n",
       "        vertical-align: middle;\n",
       "    }\n",
       "\n",
       "    .dataframe tbody tr th {\n",
       "        vertical-align: top;\n",
       "    }\n",
       "\n",
       "    .dataframe thead th {\n",
       "        text-align: right;\n",
       "    }\n",
       "</style>\n",
       "<table border=\"1\" class=\"dataframe\">\n",
       "  <thead>\n",
       "    <tr style=\"text-align: right;\">\n",
       "      <th></th>\n",
       "      <th>id</th>\n",
       "      <th>date</th>\n",
       "      <th>price</th>\n",
       "      <th>bedrooms</th>\n",
       "      <th>bathrooms</th>\n",
       "      <th>sqft_living</th>\n",
       "      <th>sqft_lot</th>\n",
       "      <th>floors</th>\n",
       "      <th>waterfront</th>\n",
       "      <th>view</th>\n",
       "      <th>...</th>\n",
       "      <th>grade</th>\n",
       "      <th>sqft_above</th>\n",
       "      <th>sqft_basement</th>\n",
       "      <th>yr_built</th>\n",
       "      <th>yr_renovated</th>\n",
       "      <th>zipcode</th>\n",
       "      <th>lat</th>\n",
       "      <th>long</th>\n",
       "      <th>sqft_living15</th>\n",
       "      <th>sqft_lot15</th>\n",
       "    </tr>\n",
       "  </thead>\n",
       "  <tbody>\n",
       "    <tr>\n",
       "      <th>0</th>\n",
       "      <td>7129300520</td>\n",
       "      <td>20141013T000000</td>\n",
       "      <td>221900.00</td>\n",
       "      <td>3</td>\n",
       "      <td>1.00</td>\n",
       "      <td>1180</td>\n",
       "      <td>5650</td>\n",
       "      <td>1.00</td>\n",
       "      <td>0</td>\n",
       "      <td>0</td>\n",
       "      <td>...</td>\n",
       "      <td>7</td>\n",
       "      <td>1180</td>\n",
       "      <td>0</td>\n",
       "      <td>1955</td>\n",
       "      <td>0</td>\n",
       "      <td>98178</td>\n",
       "      <td>47.51</td>\n",
       "      <td>-122.26</td>\n",
       "      <td>1340</td>\n",
       "      <td>5650</td>\n",
       "    </tr>\n",
       "    <tr>\n",
       "      <th>1</th>\n",
       "      <td>6414100192</td>\n",
       "      <td>20141209T000000</td>\n",
       "      <td>538000.00</td>\n",
       "      <td>3</td>\n",
       "      <td>2.25</td>\n",
       "      <td>2570</td>\n",
       "      <td>7242</td>\n",
       "      <td>2.00</td>\n",
       "      <td>0</td>\n",
       "      <td>0</td>\n",
       "      <td>...</td>\n",
       "      <td>7</td>\n",
       "      <td>2170</td>\n",
       "      <td>400</td>\n",
       "      <td>1951</td>\n",
       "      <td>1991</td>\n",
       "      <td>98125</td>\n",
       "      <td>47.72</td>\n",
       "      <td>-122.32</td>\n",
       "      <td>1690</td>\n",
       "      <td>7639</td>\n",
       "    </tr>\n",
       "    <tr>\n",
       "      <th>2</th>\n",
       "      <td>5631500400</td>\n",
       "      <td>20150225T000000</td>\n",
       "      <td>180000.00</td>\n",
       "      <td>2</td>\n",
       "      <td>1.00</td>\n",
       "      <td>770</td>\n",
       "      <td>10000</td>\n",
       "      <td>1.00</td>\n",
       "      <td>0</td>\n",
       "      <td>0</td>\n",
       "      <td>...</td>\n",
       "      <td>6</td>\n",
       "      <td>770</td>\n",
       "      <td>0</td>\n",
       "      <td>1933</td>\n",
       "      <td>0</td>\n",
       "      <td>98028</td>\n",
       "      <td>47.74</td>\n",
       "      <td>-122.23</td>\n",
       "      <td>2720</td>\n",
       "      <td>8062</td>\n",
       "    </tr>\n",
       "    <tr>\n",
       "      <th>3</th>\n",
       "      <td>2487200875</td>\n",
       "      <td>20141209T000000</td>\n",
       "      <td>604000.00</td>\n",
       "      <td>4</td>\n",
       "      <td>3.00</td>\n",
       "      <td>1960</td>\n",
       "      <td>5000</td>\n",
       "      <td>1.00</td>\n",
       "      <td>0</td>\n",
       "      <td>0</td>\n",
       "      <td>...</td>\n",
       "      <td>7</td>\n",
       "      <td>1050</td>\n",
       "      <td>910</td>\n",
       "      <td>1965</td>\n",
       "      <td>0</td>\n",
       "      <td>98136</td>\n",
       "      <td>47.52</td>\n",
       "      <td>-122.39</td>\n",
       "      <td>1360</td>\n",
       "      <td>5000</td>\n",
       "    </tr>\n",
       "    <tr>\n",
       "      <th>4</th>\n",
       "      <td>1954400510</td>\n",
       "      <td>20150218T000000</td>\n",
       "      <td>510000.00</td>\n",
       "      <td>3</td>\n",
       "      <td>2.00</td>\n",
       "      <td>1680</td>\n",
       "      <td>8080</td>\n",
       "      <td>1.00</td>\n",
       "      <td>0</td>\n",
       "      <td>0</td>\n",
       "      <td>...</td>\n",
       "      <td>8</td>\n",
       "      <td>1680</td>\n",
       "      <td>0</td>\n",
       "      <td>1987</td>\n",
       "      <td>0</td>\n",
       "      <td>98074</td>\n",
       "      <td>47.62</td>\n",
       "      <td>-122.05</td>\n",
       "      <td>1800</td>\n",
       "      <td>7503</td>\n",
       "    </tr>\n",
       "  </tbody>\n",
       "</table>\n",
       "<p>5 rows × 21 columns</p>\n",
       "</div>"
      ],
      "text/plain": [
       "           id             date     price  bedrooms  bathrooms  sqft_living  \\\n",
       "0  7129300520  20141013T000000 221900.00         3       1.00         1180   \n",
       "1  6414100192  20141209T000000 538000.00         3       2.25         2570   \n",
       "2  5631500400  20150225T000000 180000.00         2       1.00          770   \n",
       "3  2487200875  20141209T000000 604000.00         4       3.00         1960   \n",
       "4  1954400510  20150218T000000 510000.00         3       2.00         1680   \n",
       "\n",
       "   sqft_lot  floors  waterfront  view  ...  grade  sqft_above  sqft_basement  \\\n",
       "0      5650    1.00           0     0  ...      7        1180              0   \n",
       "1      7242    2.00           0     0  ...      7        2170            400   \n",
       "2     10000    1.00           0     0  ...      6         770              0   \n",
       "3      5000    1.00           0     0  ...      7        1050            910   \n",
       "4      8080    1.00           0     0  ...      8        1680              0   \n",
       "\n",
       "   yr_built  yr_renovated  zipcode   lat    long  sqft_living15  sqft_lot15  \n",
       "0      1955             0    98178 47.51 -122.26           1340        5650  \n",
       "1      1951          1991    98125 47.72 -122.32           1690        7639  \n",
       "2      1933             0    98028 47.74 -122.23           2720        8062  \n",
       "3      1965             0    98136 47.52 -122.39           1360        5000  \n",
       "4      1987             0    98074 47.62 -122.05           1800        7503  \n",
       "\n",
       "[5 rows x 21 columns]"
      ]
     },
     "execution_count": 173,
     "metadata": {},
     "output_type": "execute_result"
    }
   ],
   "source": [
    "data = pd.read_csv('kc_house.csv')\n",
    "data.head()"
   ]
  },
  {
   "cell_type": "markdown",
   "id": "cf553f09",
   "metadata": {},
   "source": [
    "# 3 - Data Cleaning and Description\n"
   ]
  },
  {
   "cell_type": "markdown",
   "id": "8be34c57",
   "metadata": {},
   "source": [
    "### 3.1 Data Dimensions\n"
   ]
  },
  {
   "cell_type": "code",
   "execution_count": 174,
   "id": "49a3bbc9",
   "metadata": {
    "ExecuteTime": {
     "end_time": "2022-07-18T21:38:21.130044Z",
     "start_time": "2022-07-18T21:38:21.122050Z"
    }
   },
   "outputs": [
    {
     "name": "stdout",
     "output_type": "stream",
     "text": [
      "O número de linhas do banco de dados é 21613\n",
      "O número de colunas do banco de dados é 21\n"
     ]
    }
   ],
   "source": [
    "print(f'O número de linhas do banco de dados é {data.shape[0]}')\n",
    "print(f'O número de colunas do banco de dados é {data.shape[1]}')\n"
   ]
  },
  {
   "cell_type": "markdown",
   "id": "6ae804d0",
   "metadata": {},
   "source": [
    "### 3.2 Data Types"
   ]
  },
  {
   "cell_type": "code",
   "execution_count": 175,
   "id": "3fab3418",
   "metadata": {
    "ExecuteTime": {
     "end_time": "2022-07-18T21:38:22.547048Z",
     "start_time": "2022-07-18T21:38:22.482402Z"
    }
   },
   "outputs": [],
   "source": [
    "data.dtypes\n",
    "\n",
    "#'date' as datetime\n",
    "data['date'] = pd.to_datetime(data['date'])\n",
    "\n",
    "#'yr_built' as datetime\n",
    "data['yr_built'] = pd.to_datetime(data['yr_built'].astype(str))\n",
    "\n",
    "#'yr_renovated' as datetime\n",
    "data['yr_renovated'] = pd.to_datetime(data['yr_renovated'].astype(str).replace('0','1800'))\n",
    "\n"
   ]
  },
  {
   "cell_type": "markdown",
   "id": "67a56e75",
   "metadata": {},
   "source": [
    "### 3.3 Check NA"
   ]
  },
  {
   "cell_type": "code",
   "execution_count": 176,
   "id": "ca2ed173",
   "metadata": {
    "ExecuteTime": {
     "end_time": "2022-07-18T21:38:26.674176Z",
     "start_time": "2022-07-18T21:38:26.658185Z"
    },
    "collapsed": true
   },
   "outputs": [
    {
     "data": {
      "text/plain": [
       "id               0\n",
       "date             0\n",
       "price            0\n",
       "bedrooms         0\n",
       "bathrooms        0\n",
       "sqft_living      0\n",
       "sqft_lot         0\n",
       "floors           0\n",
       "waterfront       0\n",
       "view             0\n",
       "condition        0\n",
       "grade            0\n",
       "sqft_above       0\n",
       "sqft_basement    0\n",
       "yr_built         0\n",
       "yr_renovated     0\n",
       "zipcode          0\n",
       "lat              0\n",
       "long             0\n",
       "sqft_living15    0\n",
       "sqft_lot15       0\n",
       "dtype: int64"
      ]
     },
     "execution_count": 176,
     "metadata": {},
     "output_type": "execute_result"
    }
   ],
   "source": [
    "data.isna().sum()"
   ]
  },
  {
   "cell_type": "markdown",
   "id": "6c06761b",
   "metadata": {},
   "source": [
    "### 3.4 Descriptive Statistical\n"
   ]
  },
  {
   "cell_type": "markdown",
   "id": "12941561",
   "metadata": {},
   "source": [
    "#### 3.4.1 Numerical Variables"
   ]
  },
  {
   "cell_type": "code",
   "execution_count": 257,
   "id": "c905a6a7",
   "metadata": {
    "ExecuteTime": {
     "end_time": "2022-07-18T22:34:11.855656Z",
     "start_time": "2022-07-18T22:34:11.737770Z"
    }
   },
   "outputs": [
    {
     "data": {
      "text/html": [
       "<div>\n",
       "<style scoped>\n",
       "    .dataframe tbody tr th:only-of-type {\n",
       "        vertical-align: middle;\n",
       "    }\n",
       "\n",
       "    .dataframe tbody tr th {\n",
       "        vertical-align: top;\n",
       "    }\n",
       "\n",
       "    .dataframe thead th {\n",
       "        text-align: right;\n",
       "    }\n",
       "</style>\n",
       "<table border=\"1\" class=\"dataframe\">\n",
       "  <thead>\n",
       "    <tr style=\"text-align: right;\">\n",
       "      <th></th>\n",
       "      <th>Min</th>\n",
       "      <th>Max</th>\n",
       "      <th>Range</th>\n",
       "      <th>Mean</th>\n",
       "      <th>Median</th>\n",
       "      <th>Standard Deviation</th>\n",
       "      <th>Skewness</th>\n",
       "      <th>Kurtosis</th>\n",
       "    </tr>\n",
       "  </thead>\n",
       "  <tbody>\n",
       "    <tr>\n",
       "      <th>id</th>\n",
       "      <td>1000102.00</td>\n",
       "      <td>9900000190.00</td>\n",
       "      <td>9899000088.00</td>\n",
       "      <td>4580301520.86</td>\n",
       "      <td>3904930410.00</td>\n",
       "      <td>2876499023.43</td>\n",
       "      <td>0.24</td>\n",
       "      <td>-1.26</td>\n",
       "    </tr>\n",
       "    <tr>\n",
       "      <th>price</th>\n",
       "      <td>75000.00</td>\n",
       "      <td>7700000.00</td>\n",
       "      <td>7625000.00</td>\n",
       "      <td>540088.14</td>\n",
       "      <td>450000.00</td>\n",
       "      <td>367118.70</td>\n",
       "      <td>4.02</td>\n",
       "      <td>34.59</td>\n",
       "    </tr>\n",
       "    <tr>\n",
       "      <th>bedrooms</th>\n",
       "      <td>0.00</td>\n",
       "      <td>33.00</td>\n",
       "      <td>33.00</td>\n",
       "      <td>3.37</td>\n",
       "      <td>3.00</td>\n",
       "      <td>0.93</td>\n",
       "      <td>1.97</td>\n",
       "      <td>49.06</td>\n",
       "    </tr>\n",
       "    <tr>\n",
       "      <th>bathrooms</th>\n",
       "      <td>0.00</td>\n",
       "      <td>8.00</td>\n",
       "      <td>8.00</td>\n",
       "      <td>2.11</td>\n",
       "      <td>2.25</td>\n",
       "      <td>0.77</td>\n",
       "      <td>0.51</td>\n",
       "      <td>1.28</td>\n",
       "    </tr>\n",
       "    <tr>\n",
       "      <th>sqft_living</th>\n",
       "      <td>290.00</td>\n",
       "      <td>13540.00</td>\n",
       "      <td>13250.00</td>\n",
       "      <td>2079.90</td>\n",
       "      <td>1910.00</td>\n",
       "      <td>918.42</td>\n",
       "      <td>1.47</td>\n",
       "      <td>5.24</td>\n",
       "    </tr>\n",
       "    <tr>\n",
       "      <th>sqft_lot</th>\n",
       "      <td>520.00</td>\n",
       "      <td>1651359.00</td>\n",
       "      <td>1650839.00</td>\n",
       "      <td>15106.97</td>\n",
       "      <td>7618.00</td>\n",
       "      <td>41419.55</td>\n",
       "      <td>13.06</td>\n",
       "      <td>285.08</td>\n",
       "    </tr>\n",
       "    <tr>\n",
       "      <th>floors</th>\n",
       "      <td>1.00</td>\n",
       "      <td>3.50</td>\n",
       "      <td>2.50</td>\n",
       "      <td>1.49</td>\n",
       "      <td>1.50</td>\n",
       "      <td>0.54</td>\n",
       "      <td>0.62</td>\n",
       "      <td>-0.48</td>\n",
       "    </tr>\n",
       "    <tr>\n",
       "      <th>waterfront</th>\n",
       "      <td>0.00</td>\n",
       "      <td>1.00</td>\n",
       "      <td>1.00</td>\n",
       "      <td>0.01</td>\n",
       "      <td>0.00</td>\n",
       "      <td>0.09</td>\n",
       "      <td>11.39</td>\n",
       "      <td>127.63</td>\n",
       "    </tr>\n",
       "    <tr>\n",
       "      <th>view</th>\n",
       "      <td>0.00</td>\n",
       "      <td>4.00</td>\n",
       "      <td>4.00</td>\n",
       "      <td>0.23</td>\n",
       "      <td>0.00</td>\n",
       "      <td>0.77</td>\n",
       "      <td>3.40</td>\n",
       "      <td>10.89</td>\n",
       "    </tr>\n",
       "    <tr>\n",
       "      <th>condition</th>\n",
       "      <td>1.00</td>\n",
       "      <td>5.00</td>\n",
       "      <td>4.00</td>\n",
       "      <td>3.41</td>\n",
       "      <td>3.00</td>\n",
       "      <td>0.65</td>\n",
       "      <td>1.03</td>\n",
       "      <td>0.53</td>\n",
       "    </tr>\n",
       "    <tr>\n",
       "      <th>grade</th>\n",
       "      <td>1.00</td>\n",
       "      <td>13.00</td>\n",
       "      <td>12.00</td>\n",
       "      <td>7.66</td>\n",
       "      <td>7.00</td>\n",
       "      <td>1.18</td>\n",
       "      <td>0.77</td>\n",
       "      <td>1.19</td>\n",
       "    </tr>\n",
       "    <tr>\n",
       "      <th>sqft_above</th>\n",
       "      <td>290.00</td>\n",
       "      <td>9410.00</td>\n",
       "      <td>9120.00</td>\n",
       "      <td>1788.39</td>\n",
       "      <td>1560.00</td>\n",
       "      <td>828.07</td>\n",
       "      <td>1.45</td>\n",
       "      <td>3.40</td>\n",
       "    </tr>\n",
       "    <tr>\n",
       "      <th>sqft_basement</th>\n",
       "      <td>0.00</td>\n",
       "      <td>4820.00</td>\n",
       "      <td>4820.00</td>\n",
       "      <td>291.51</td>\n",
       "      <td>0.00</td>\n",
       "      <td>442.56</td>\n",
       "      <td>1.58</td>\n",
       "      <td>2.72</td>\n",
       "    </tr>\n",
       "    <tr>\n",
       "      <th>zipcode</th>\n",
       "      <td>98001.00</td>\n",
       "      <td>98199.00</td>\n",
       "      <td>198.00</td>\n",
       "      <td>98077.94</td>\n",
       "      <td>98065.00</td>\n",
       "      <td>53.50</td>\n",
       "      <td>0.41</td>\n",
       "      <td>-0.85</td>\n",
       "    </tr>\n",
       "    <tr>\n",
       "      <th>lat</th>\n",
       "      <td>47.16</td>\n",
       "      <td>47.78</td>\n",
       "      <td>0.62</td>\n",
       "      <td>47.56</td>\n",
       "      <td>47.57</td>\n",
       "      <td>0.14</td>\n",
       "      <td>-0.49</td>\n",
       "      <td>-0.68</td>\n",
       "    </tr>\n",
       "    <tr>\n",
       "      <th>long</th>\n",
       "      <td>-122.52</td>\n",
       "      <td>-121.31</td>\n",
       "      <td>1.20</td>\n",
       "      <td>-122.21</td>\n",
       "      <td>-122.23</td>\n",
       "      <td>0.14</td>\n",
       "      <td>0.89</td>\n",
       "      <td>1.05</td>\n",
       "    </tr>\n",
       "    <tr>\n",
       "      <th>sqft_living15</th>\n",
       "      <td>399.00</td>\n",
       "      <td>6210.00</td>\n",
       "      <td>5811.00</td>\n",
       "      <td>1986.55</td>\n",
       "      <td>1840.00</td>\n",
       "      <td>685.38</td>\n",
       "      <td>1.11</td>\n",
       "      <td>1.60</td>\n",
       "    </tr>\n",
       "    <tr>\n",
       "      <th>sqft_lot15</th>\n",
       "      <td>651.00</td>\n",
       "      <td>871200.00</td>\n",
       "      <td>870549.00</td>\n",
       "      <td>12768.46</td>\n",
       "      <td>7620.00</td>\n",
       "      <td>27303.55</td>\n",
       "      <td>9.51</td>\n",
       "      <td>150.76</td>\n",
       "    </tr>\n",
       "  </tbody>\n",
       "</table>\n",
       "</div>"
      ],
      "text/plain": [
       "                     Min           Max         Range          Mean  \\\n",
       "id            1000102.00 9900000190.00 9899000088.00 4580301520.86   \n",
       "price           75000.00    7700000.00    7625000.00     540088.14   \n",
       "bedrooms            0.00         33.00         33.00          3.37   \n",
       "bathrooms           0.00          8.00          8.00          2.11   \n",
       "sqft_living       290.00      13540.00      13250.00       2079.90   \n",
       "sqft_lot          520.00    1651359.00    1650839.00      15106.97   \n",
       "floors              1.00          3.50          2.50          1.49   \n",
       "waterfront          0.00          1.00          1.00          0.01   \n",
       "view                0.00          4.00          4.00          0.23   \n",
       "condition           1.00          5.00          4.00          3.41   \n",
       "grade               1.00         13.00         12.00          7.66   \n",
       "sqft_above        290.00       9410.00       9120.00       1788.39   \n",
       "sqft_basement       0.00       4820.00       4820.00        291.51   \n",
       "zipcode         98001.00      98199.00        198.00      98077.94   \n",
       "lat                47.16         47.78          0.62         47.56   \n",
       "long             -122.52       -121.31          1.20       -122.21   \n",
       "sqft_living15     399.00       6210.00       5811.00       1986.55   \n",
       "sqft_lot15        651.00     871200.00     870549.00      12768.46   \n",
       "\n",
       "                     Median  Standard Deviation  Skewness  Kurtosis  \n",
       "id            3904930410.00       2876499023.43      0.24     -1.26  \n",
       "price             450000.00           367118.70      4.02     34.59  \n",
       "bedrooms               3.00                0.93      1.97     49.06  \n",
       "bathrooms              2.25                0.77      0.51      1.28  \n",
       "sqft_living         1910.00              918.42      1.47      5.24  \n",
       "sqft_lot            7618.00            41419.55     13.06    285.08  \n",
       "floors                 1.50                0.54      0.62     -0.48  \n",
       "waterfront             0.00                0.09     11.39    127.63  \n",
       "view                   0.00                0.77      3.40     10.89  \n",
       "condition              3.00                0.65      1.03      0.53  \n",
       "grade                  7.00                1.18      0.77      1.19  \n",
       "sqft_above          1560.00              828.07      1.45      3.40  \n",
       "sqft_basement          0.00              442.56      1.58      2.72  \n",
       "zipcode            98065.00               53.50      0.41     -0.85  \n",
       "lat                   47.57                0.14     -0.49     -0.68  \n",
       "long                -122.23                0.14      0.89      1.05  \n",
       "sqft_living15       1840.00              685.38      1.11      1.60  \n",
       "sqft_lot15          7620.00            27303.55      9.51    150.76  "
      ]
     },
     "execution_count": 257,
     "metadata": {},
     "output_type": "execute_result"
    }
   ],
   "source": [
    "df = dados.select_dtypes(include=['int64', 'float64'])\n",
    "\n",
    "df_min = pd.DataFrame(df.apply(min)).T\n",
    "df_max = pd.DataFrame(df.apply(max)).T\n",
    "df_range = pd.DataFrame(df.apply(lambda x: x.max() - x.min())).T\n",
    "df_mean = pd.DataFrame(df.apply(np.mean)).T\n",
    "df_median = pd.DataFrame(df.apply(np.median)).T\n",
    "df_std = pd.DataFrame(df.apply(np.std)).T\n",
    "df_skew = pd.DataFrame(df.apply(lambda x:x.skew())).T\n",
    "df_kurtosis = pd.DataFrame(df.apply(lambda x:x.kurtosis())).T\n",
    "\n",
    "summary = pd.concat([df_min,df_max,df_range,df_mean,df_median,df_std,df_skew,df_kurtosis]).T\n",
    "summary.columns = ['Min','Max','Range','Mean','Median','Standard Deviation','Skewness','Kurtosis']\n",
    "summary"
   ]
  },
  {
   "cell_type": "markdown",
   "id": "eb9e8212",
   "metadata": {},
   "source": [
    "#### 3.4.2 DateTime Variables\n"
   ]
  },
  {
   "cell_type": "code",
   "execution_count": 178,
   "id": "10a691ff",
   "metadata": {
    "ExecuteTime": {
     "end_time": "2022-07-18T21:38:53.354255Z",
     "start_time": "2022-07-18T21:38:53.330268Z"
    }
   },
   "outputs": [
    {
     "data": {
      "text/html": [
       "<div>\n",
       "<style scoped>\n",
       "    .dataframe tbody tr th:only-of-type {\n",
       "        vertical-align: middle;\n",
       "    }\n",
       "\n",
       "    .dataframe tbody tr th {\n",
       "        vertical-align: top;\n",
       "    }\n",
       "\n",
       "    .dataframe thead th {\n",
       "        text-align: right;\n",
       "    }\n",
       "</style>\n",
       "<table border=\"1\" class=\"dataframe\">\n",
       "  <thead>\n",
       "    <tr style=\"text-align: right;\">\n",
       "      <th></th>\n",
       "      <th>date</th>\n",
       "      <th>yr_built</th>\n",
       "      <th>yr_renovated</th>\n",
       "    </tr>\n",
       "  </thead>\n",
       "  <tbody>\n",
       "    <tr>\n",
       "      <th>count</th>\n",
       "      <td>21613</td>\n",
       "      <td>21613</td>\n",
       "      <td>21613</td>\n",
       "    </tr>\n",
       "    <tr>\n",
       "      <th>mean</th>\n",
       "      <td>2014-10-29 04:38:01.959931648</td>\n",
       "      <td>1971-01-03 00:06:59.747374252</td>\n",
       "      <td>1808-04-13 17:09:46.813491200</td>\n",
       "    </tr>\n",
       "    <tr>\n",
       "      <th>min</th>\n",
       "      <td>2014-05-02 00:00:00</td>\n",
       "      <td>1900-01-01 00:00:00</td>\n",
       "      <td>1800-01-01 00:00:00</td>\n",
       "    </tr>\n",
       "    <tr>\n",
       "      <th>25%</th>\n",
       "      <td>2014-07-22 00:00:00</td>\n",
       "      <td>1951-01-01 00:00:00</td>\n",
       "      <td>1800-01-01 00:00:00</td>\n",
       "    </tr>\n",
       "    <tr>\n",
       "      <th>50%</th>\n",
       "      <td>2014-10-16 00:00:00</td>\n",
       "      <td>1975-01-01 00:00:00</td>\n",
       "      <td>1800-01-01 00:00:00</td>\n",
       "    </tr>\n",
       "    <tr>\n",
       "      <th>75%</th>\n",
       "      <td>2015-02-17 00:00:00</td>\n",
       "      <td>1997-01-01 00:00:00</td>\n",
       "      <td>1800-01-01 00:00:00</td>\n",
       "    </tr>\n",
       "    <tr>\n",
       "      <th>max</th>\n",
       "      <td>2015-05-27 00:00:00</td>\n",
       "      <td>2015-01-01 00:00:00</td>\n",
       "      <td>2015-01-01 00:00:00</td>\n",
       "    </tr>\n",
       "  </tbody>\n",
       "</table>\n",
       "</div>"
      ],
      "text/plain": [
       "                                date                       yr_built  \\\n",
       "count                          21613                          21613   \n",
       "mean   2014-10-29 04:38:01.959931648  1971-01-03 00:06:59.747374252   \n",
       "min              2014-05-02 00:00:00            1900-01-01 00:00:00   \n",
       "25%              2014-07-22 00:00:00            1951-01-01 00:00:00   \n",
       "50%              2014-10-16 00:00:00            1975-01-01 00:00:00   \n",
       "75%              2015-02-17 00:00:00            1997-01-01 00:00:00   \n",
       "max              2015-05-27 00:00:00            2015-01-01 00:00:00   \n",
       "\n",
       "                        yr_renovated  \n",
       "count                          21613  \n",
       "mean   1808-04-13 17:09:46.813491200  \n",
       "min              1800-01-01 00:00:00  \n",
       "25%              1800-01-01 00:00:00  \n",
       "50%              1800-01-01 00:00:00  \n",
       "75%              1800-01-01 00:00:00  \n",
       "max              2015-01-01 00:00:00  "
      ]
     },
     "execution_count": 178,
     "metadata": {},
     "output_type": "execute_result"
    }
   ],
   "source": [
    "summary_date = data.select_dtypes(exclude=['int64','float64'])\n",
    "pd.DataFrame.describe(summary_date,datetime_is_numeric=True)"
   ]
  },
  {
   "cell_type": "markdown",
   "id": "9edac52f",
   "metadata": {},
   "source": [
    "# 4.0 Hypothesis and Feature Engineering"
   ]
  },
  {
   "cell_type": "markdown",
   "id": "f8a8a75f",
   "metadata": {},
   "source": [
    "### 4.1 Hypothesis - MindMap"
   ]
  },
  {
   "cell_type": "code",
   "execution_count": 300,
   "id": "6e87f1b0",
   "metadata": {
    "ExecuteTime": {
     "end_time": "2022-07-18T23:36:29.815958Z",
     "start_time": "2022-07-18T23:36:29.806983Z"
    },
    "collapsed": true
   },
   "outputs": [
    {
     "data": {
      "image/jpeg": "[encoded data removed]",
      "text/plain": [
       "<IPython.core.display.Image object>"
      ]
     },
     "execution_count": 300,
     "metadata": {},
     "output_type": "execute_result"
    }
   ],
   "source": [
    "df4 = data.copy()\n",
    "Image( 'mindmap.jpg' )"
   ]
  },
  {
   "cell_type": "markdown",
   "id": "dcd97e71",
   "metadata": {},
   "source": [
    "### 4.2 Hypothesis - Hypothesis Criation\n",
    "\n",
    "1 - Casas em melhores condições possuem preços acima da mediana\n",
    "\n",
    "2 - Casas construídas há mais tempo possuem preços abaixo da mediana\n",
    "\n",
    "3 - Casas localizadas com vista para água possuem preço acima da mediana\n",
    "\n",
    "4 - No primeiro semestre do ano o preço da casa é maior que a mediana\n",
    "\n",
    "5 - Casas que passaram por reforma e estão em boas condições possuem preços maiores que a mediana\n",
    "\n",
    "6 - Casas que possuem a partir de 3 quartos e 2 banheiros tem preço acima da mediana \n",
    "\n",
    "7 - Casas com o tamanho do lot maior que a mediana possuem preço acida da mediana\n",
    "\n",
    "8 - Casas com tamanho da sala de estar maior que a mediana possuem preço maior que a mediana\n",
    "\n",
    "9 - Casas que possuem porão possuem preço maior que a mediana\n",
    "\n",
    "10 - Casas com número de andares a partir de 2 são mais caras que a mediana\n",
    "\n",
    "\n"
   ]
  },
  {
   "cell_type": "markdown",
   "id": "0acb74f8",
   "metadata": {},
   "source": [
    "# 5.0 Exploratory Data Analysis\n"
   ]
  },
  {
   "cell_type": "markdown",
   "id": "14b529c4",
   "metadata": {},
   "source": [
    "### 5.1 Hypothesis Analysis\n",
    "1 - Casas em melhores condições possuem preços acima da mediana"
   ]
  },
  {
   "cell_type": "code",
   "execution_count": 301,
   "id": "ebc59b79",
   "metadata": {
    "ExecuteTime": {
     "end_time": "2022-07-18T23:36:33.360101Z",
     "start_time": "2022-07-18T23:36:33.351156Z"
    }
   },
   "outputs": [],
   "source": [
    "df4['condition'] = df4['condition'].apply(lambda x: 'bad' if x <= 2 else 'regular' \n",
    "                                                           if 3 <= x <= 4 else 'good' \n",
    "                                                           if x == 5 else 'NA')\n",
    "\n",
    "\n"
   ]
  },
  {
   "cell_type": "code",
   "execution_count": 432,
   "id": "7654a2cc",
   "metadata": {
    "ExecuteTime": {
     "end_time": "2022-07-19T00:52:53.797882Z",
     "start_time": "2022-07-19T00:52:53.691622Z"
    }
   },
   "outputs": [
    {
     "data": {
      "image/png": "[encoded data removed]",
      "text/plain": [
       "<Figure size 1080x720 with 1 Axes>"
      ]
     },
     "metadata": {},
     "output_type": "display_data"
    }
   ],
   "source": [
    "h_1 = df4[['condition','price']].groupby('condition').median().sort_values('price').reset_index()\n",
    "sns.barplot(x='condition',y='price',data=h_1);\n",
    "plt.axhline( np.median(df4['price']), linestyle='--', color ='red');\n",
    "\n"
   ]
  },
  {
   "cell_type": "markdown",
   "id": "fff2705a",
   "metadata": {},
   "source": [
    "2 - Casas construídas há mais tempo possuem preços abaixo da mediana"
   ]
  },
  {
   "cell_type": "code",
   "execution_count": 333,
   "id": "f1c42561",
   "metadata": {
    "ExecuteTime": {
     "end_time": "2022-07-18T23:48:02.520294Z",
     "start_time": "2022-07-18T23:48:02.303185Z"
    }
   },
   "outputs": [
    {
     "data": {
      "text/plain": [
       "<matplotlib.lines.Line2D at 0x24738cca520>"
      ]
     },
     "execution_count": 333,
     "metadata": {},
     "output_type": "execute_result"
    },
    {
     "data": {
      "image/png": "[encoded data removed]",
      "text/plain": [
       "<Figure size 1080x720 with 1 Axes>"
      ]
     },
     "metadata": {},
     "output_type": "display_data"
    }
   ],
   "source": [
    "h_2 = df4[['yr_built','price']].groupby('yr_built').median().reset_index()\n",
    "sns.lineplot(x='yr_built',y='price',data=h_2);\n",
    "plt.axhline( np.median(df4['price']), linestyle='--', color ='red');\n"
   ]
  },
  {
   "cell_type": "markdown",
   "id": "94fcfbf2",
   "metadata": {},
   "source": [
    "3 - Casas localizadas com vista para água possuem preço acima da mediana"
   ]
  },
  {
   "cell_type": "code",
   "execution_count": 433,
   "id": "2674802e",
   "metadata": {
    "ExecuteTime": {
     "end_time": "2022-07-19T00:53:21.333508Z",
     "start_time": "2022-07-19T00:53:21.211035Z"
    }
   },
   "outputs": [
    {
     "name": "stderr",
     "output_type": "stream",
     "text": [
      "posx and posy should be finite values\n",
      "posx and posy should be finite values\n"
     ]
    },
    {
     "data": {
      "image/png": "[encoded data removed]",
      "text/plain": [
       "<Figure size 1080x720 with 1 Axes>"
      ]
     },
     "metadata": {},
     "output_type": "display_data"
    }
   ],
   "source": [
    "h_3 =  df4[['waterfront','price']].groupby('waterfront').median().reset_index()\n",
    "# sns.barplot(x='waterfront',y='price',data=h_3)\n",
    "h_3['a'] = 100 * h_3['price'].pct_change()\n",
    "\n",
    "a = sns.barplot(x='waterfront',y='a',data=h_3)\n",
    "\n",
    "for index, row in aux.iterrows():\n",
    "    a.text(row.name,row.growth, round(row.growth,2), color='black', ha=\"center\")\n"
   ]
  },
  {
   "cell_type": "markdown",
   "id": "4b4a2afb",
   "metadata": {},
   "source": [
    "4 - No primeiro semestre do ano o preço da casa é maior que a mediana"
   ]
  },
  {
   "cell_type": "code",
   "execution_count": null,
   "id": "37a4a1a9",
   "metadata": {},
   "outputs": [],
   "source": []
  },
  {
   "cell_type": "code",
   "execution_count": null,
   "id": "77ea88ba",
   "metadata": {},
   "outputs": [],
   "source": []
  },
  {
   "cell_type": "code",
   "execution_count": null,
   "id": "fae29333",
   "metadata": {},
   "outputs": [],
   "source": []
  },
  {
   "cell_type": "code",
   "execution_count": null,
   "id": "acd21311",
   "metadata": {},
   "outputs": [],
   "source": []
  },
  {
   "cell_type": "code",
   "execution_count": null,
   "id": "0bbc1fcf",
   "metadata": {},
   "outputs": [],
   "source": [
    "\n",
    "\n",
    "5 - Casas que passaram por reforma e estão em boas condições possuem preços maiores que a mediana\n",
    "\n",
    "6 - Casas que possuem a partir de 3 quartos e 2 banheiros tem preço acima da mediana \n",
    "\n",
    "7 - Casas com o tamanho do lot maior que a mediana possuem preço acida da mediana\n",
    "\n",
    "8 - Casas com tamanho da sala de estar maior que a mediana possuem preço maior que a mediana\n",
    "\n",
    "9 - Casas que possuem porão possuem preço maior que a mediana\n",
    "\n",
    "10 - Casas com número de andares a partir de 2 são mais caras que a mediana\n",
    "\n",
    "\n"
   ]
  }
 ],
 "metadata": {
  "kernelspec": {
   "display_name": "Python 3 (ipykernel)",
   "language": "python",
   "name": "python3"
  },
  "language_info": {
   "codemirror_mode": {
    "name": "ipython",
    "version": 3
   },
   "file_extension": ".py",
   "mimetype": "text/x-python",
   "name": "python",
   "nbconvert_exporter": "python",
   "pygments_lexer": "ipython3",
   "version": "3.9.12"
  },
  "varInspector": {
   "cols": {
    "lenName": 16,
    "lenType": 16,
    "lenVar": 40
   },
   "kernels_config": {
    "python": {
     "delete_cmd_postfix": "",
     "delete_cmd_prefix": "del ",
     "library": "var_list.py",
     "varRefreshCmd": "print(var_dic_list())"
    },
    "r": {
     "delete_cmd_postfix": ") ",
     "delete_cmd_prefix": "rm(",
     "library": "var_list.r",
     "varRefreshCmd": "cat(var_dic_list()) "
    }
   },
   "types_to_exclude": [
    "module",
    "function",
    "builtin_function_or_method",
    "instance",
    "_Feature"
   ],
   "window_display": false
  }
 },
 "nbformat": 4,
 "nbformat_minor": 5
}
